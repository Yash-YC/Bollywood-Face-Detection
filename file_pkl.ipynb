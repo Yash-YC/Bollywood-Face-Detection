{
 "cells": [
  {
   "cell_type": "code",
   "execution_count": 1,
   "metadata": {},
   "outputs": [],
   "source": [
    "import os\n",
    "import pickle"
   ]
  },
  {
   "cell_type": "code",
   "execution_count": 4,
   "metadata": {},
   "outputs": [
    {
     "name": "stdout",
     "output_type": "stream",
     "text": [
      "11192\n",
      "['actors\\\\Actors_faces\\\\Aamir_Khan.jpg', 'actors\\\\Actors_faces\\\\Aamir_Khan1.jpg', 'actors\\\\Actors_faces\\\\Aamir_Khan101.jpg', 'actors\\\\Actors_faces\\\\Aamir_Khan103.jpg', 'actors\\\\Actors_faces\\\\Aamir_Khan105.jpg', 'actors\\\\Actors_faces\\\\Aamir_Khan107.jpg', 'actors\\\\Actors_faces\\\\Aamir_Khan109.jpg', 'actors\\\\Actors_faces\\\\Aamir_Khan11.jpg', 'actors\\\\Actors_faces\\\\Aamir_Khan111.jpg', 'actors\\\\Actors_faces\\\\Aamir_Khan113.jpg']\n"
     ]
    }
   ],
   "source": [
    "actors = os.listdir(\"actors\")\n",
    "filenames = []\n",
    "\n",
    "for actor in actors:\n",
    "    for file in os.listdir(os.path.join(\"actors\", actor)):\n",
    "        filenames.append(os.path.join(\"actors\", actor, file))\n",
    "print(len(filenames))\n",
    "print(filenames[0:10])\n"
   ]
  },
  {
   "cell_type": "code",
   "execution_count": 5,
   "metadata": {},
   "outputs": [],
   "source": [
    "pickle.dump(filenames,open(\"filenames.pkl\",\"wb\")) ## wb is write binary"
   ]
  }
 ],
 "metadata": {
  "interpreter": {
   "hash": "ed0756f5960a631e3dd683117ae6243e966d5a08d07ac0421c72495d07fb007b"
  },
  "kernelspec": {
   "display_name": "Python 3.7.10 64-bit ('Tf': conda)",
   "name": "python3"
  },
  "language_info": {
   "codemirror_mode": {
    "name": "ipython",
    "version": 3
   },
   "file_extension": ".py",
   "mimetype": "text/x-python",
   "name": "python",
   "nbconvert_exporter": "python",
   "pygments_lexer": "ipython3",
   "version": "3.7.10"
  },
  "orig_nbformat": 4
 },
 "nbformat": 4,
 "nbformat_minor": 2
}
