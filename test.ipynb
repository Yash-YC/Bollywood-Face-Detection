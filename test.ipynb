{
 "cells": [
  {
   "cell_type": "code",
   "execution_count": 2,
   "metadata": {},
   "outputs": [],
   "source": [
    "from keras_vggface.utils import preprocess_input\n",
    "from keras_vggface.vggface import VGGFace\n",
    "import numpy as np\n",
    "import pickle\n",
    "from sklearn.metrics.pairwise import cosine_similarity\n",
    "import cv2\n",
    "from mtcnn import MTCNN\n",
    "from PIL import Image"
   ]
  },
  {
   "cell_type": "code",
   "execution_count": 3,
   "metadata": {},
   "outputs": [],
   "source": [
    "feature_list = np.array(pickle.load(open('embedding.pkl','rb')))\n",
    "filenames = pickle.load(open('filenames.pkl','rb'))"
   ]
  },
  {
   "cell_type": "code",
   "execution_count": 6,
   "metadata": {},
   "outputs": [
    {
     "name": "stdout",
     "output_type": "stream",
     "text": [
      "['actors\\\\Actors_faces\\\\Aamir_Khan1.jpg', 'actors\\\\Actors_faces\\\\Aamir_Khan101.jpg', 'actors\\\\Actors_faces\\\\Aamir_Khan103.jpg', 'actors\\\\Actors_faces\\\\Aamir_Khan105.jpg', 'actors\\\\Actors_faces\\\\Aamir_Khan107.jpg', 'actors\\\\Actors_faces\\\\Aamir_Khan109.jpg', 'actors\\\\Actors_faces\\\\Aamir_Khan11.jpg', 'actors\\\\Actors_faces\\\\Aamir_Khan111.jpg', 'actors\\\\Actors_faces\\\\Aamir_Khan113.jpg'] [[0.0000000e+00 7.5507373e-02 0.0000000e+00 ... 2.2958543e+00\n",
      "  4.0392363e-03 3.7423279e+00]\n",
      " [0.0000000e+00 6.3186491e-01 0.0000000e+00 ... 3.0350797e+00\n",
      "  0.0000000e+00 6.9678955e+00]\n",
      " [0.0000000e+00 0.0000000e+00 0.0000000e+00 ... 8.9448032e+00\n",
      "  7.3518120e-02 5.8362813e+00]\n",
      " ...\n",
      " [5.0303861e-02 2.1379738e+00 0.0000000e+00 ... 1.7698953e+00\n",
      "  6.7080361e-01 2.2449567e+00]\n",
      " [7.0421994e-02 1.8419120e-01 0.0000000e+00 ... 7.8910761e+00\n",
      "  1.1021263e-03 3.1068077e+00]\n",
      " [0.0000000e+00 1.8006738e-02 0.0000000e+00 ... 1.2053572e+01\n",
      "  8.8220453e-01 1.8553628e-01]]\n"
     ]
    }
   ],
   "source": [
    "print(f\"{filenames[1:10]} {feature_list[1:10]}\")"
   ]
  },
  {
   "cell_type": "code",
   "execution_count": 7,
   "metadata": {},
   "outputs": [],
   "source": [
    "model = VGGFace(model='resnet50',include_top=False,input_shape=(224,224,3),pooling='avg')"
   ]
  },
  {
   "cell_type": "code",
   "execution_count": 8,
   "metadata": {},
   "outputs": [],
   "source": [
    "detector = MTCNN()"
   ]
  },
  {
   "cell_type": "code",
   "execution_count": 12,
   "metadata": {},
   "outputs": [
    {
     "data": {
      "text/plain": [
       "[{'box': [375, 57, 115, 151],\n",
       "  'confidence': 0.9931060671806335,\n",
       "  'keypoints': {'left_eye': (400, 115),\n",
       "   'right_eye': (455, 113),\n",
       "   'nose': (423, 147),\n",
       "   'mouth_left': (404, 168),\n",
       "   'mouth_right': (456, 166)}}]"
      ]
     },
     "execution_count": 12,
     "metadata": {},
     "output_type": "execute_result"
    }
   ],
   "source": [
    "s_img = cv2.imread('D:/python_ml/face/sample/4.jpg')\n",
    "results = detector.detect_faces(s_img)\n",
    "results"
   ]
  },
  {
   "cell_type": "code",
   "execution_count": 13,
   "metadata": {},
   "outputs": [],
   "source": [
    "x,y,width,height = results[0]['box']\n",
    "face = s_img[y:y+height,x:x+width]"
   ]
  },
  {
   "cell_type": "code",
   "execution_count": 14,
   "metadata": {},
   "outputs": [
    {
     "data": {
      "text/plain": [
       "array([0.01244888, 0.4249769 , 3.3131335 , ..., 0.        , 1.5588728 ,\n",
       "       2.3736274 ], dtype=float32)"
      ]
     },
     "execution_count": 14,
     "metadata": {},
     "output_type": "execute_result"
    }
   ],
   "source": [
    "image = Image.fromarray(face)\n",
    "image = image.resize((224,224))\n",
    "face_array = np.asarray(image)\n",
    "face_array = face_array.astype('float32')\n",
    "expanded_img = np.expand_dims(face_array,axis=0)\n",
    "preprocessed_img = preprocess_input(expanded_img)\n",
    "result = model.predict(preprocessed_img).flatten()\n",
    "result"
   ]
  },
  {
   "cell_type": "code",
   "execution_count": 15,
   "metadata": {},
   "outputs": [
    {
     "data": {
      "text/plain": [
       "-1"
      ]
     },
     "execution_count": 15,
     "metadata": {},
     "output_type": "execute_result"
    }
   ],
   "source": [
    "similarity = []\n",
    "for i in range(len(feature_list)):\n",
    "    similarity.append(cosine_similarity(result.reshape(1,-1),feature_list[i].reshape(1,-1))[0][0])\n",
    "\n",
    "index_pos = sorted(list(enumerate(similarity)),reverse=True,key=lambda x:x[1])[0][0]\n",
    "\n",
    "temp_img = cv2.imread(filenames[index_pos])\n",
    "cv2.imshow('output',temp_img)\n",
    "cv2.waitKey(0)"
   ]
  }
 ],
 "metadata": {
  "interpreter": {
   "hash": "ed0756f5960a631e3dd683117ae6243e966d5a08d07ac0421c72495d07fb007b"
  },
  "kernelspec": {
   "display_name": "Python 3.7.10 64-bit ('Tf': conda)",
   "name": "python3"
  },
  "language_info": {
   "codemirror_mode": {
    "name": "ipython",
    "version": 3
   },
   "file_extension": ".py",
   "mimetype": "text/x-python",
   "name": "python",
   "nbconvert_exporter": "python",
   "pygments_lexer": "ipython3",
   "version": "3.7.10"
  },
  "orig_nbformat": 4
 },
 "nbformat": 4,
 "nbformat_minor": 2
}
